{
 "cells": [
  {
   "cell_type": "code",
   "execution_count": 2,
   "id": "bcbba172-c233-4878-8bf6-0575769f65e6",
   "metadata": {},
   "outputs": [],
   "source": [
    "import numpy as np\n",
    "import cv2"
   ]
  },
  {
   "cell_type": "code",
   "execution_count": 11,
   "id": "820d5a0e-288c-415e-9f1e-b1e3d0a33b73",
   "metadata": {},
   "outputs": [],
   "source": [
    "img = cv2.imread('friends.jpg')\n",
    "\n",
    "cv2.imshow('image',img)\n",
    "cv2.waitKey()\n",
    "cv2.destroyAllWindows()"
   ]
  },
  {
   "cell_type": "code",
   "execution_count": 12,
   "id": "1d49400c-e667-4bd9-a778-8e325778c9aa",
   "metadata": {},
   "outputs": [],
   "source": [
    "#load cascade classifier\n",
    "haar = cv2.CascadeClassifier('haarcascade_frontalface_default.xml')"
   ]
  },
  {
   "cell_type": "code",
   "execution_count": 15,
   "id": "436b8177-e15f-4040-9747-c6c348151912",
   "metadata": {},
   "outputs": [],
   "source": [
    "image = img.copy()\n",
    "\n",
    "#step-1: convert image to grayscale\n",
    "gray = cv2.cvtColor(img, cv2.COLOR_BGR2GRAY)\n",
    "#step-2: apply grayscale image to cascade classifier\n",
    "face_rect = haar.detectMultiScale(gray,1.3,5)\n",
    "#step-3: draw bounding box\n",
    "for x,y,w,h in face_rect:\n",
    "    cv2.rectangle(image,(x,y),(x+w, y+h),(0,255,0),2)\n",
    "\n",
    "cv2.imshow('detected faces',image)\n",
    "cv2.waitKey()\n",
    "cv2.destroyAllWindows()\n"
   ]
  },
  {
   "cell_type": "code",
   "execution_count": 16,
   "id": "3cfe7ea7-fadf-4534-9bd6-1447d4576b88",
   "metadata": {},
   "outputs": [
    {
     "name": "stdout",
     "output_type": "stream",
     "text": [
      "[[127 107  97  97]\n",
      " [256  88  98  98]\n",
      " [405  90  99  99]]\n"
     ]
    }
   ],
   "source": [
    "print(face_rect)"
   ]
  },
  {
   "cell_type": "markdown",
   "id": "5961d0f6-26ec-4b55-ad3a-4db56ae6a71e",
   "metadata": {},
   "source": [
    "### real-time face detection using opencv"
   ]
  },
  {
   "cell_type": "code",
   "execution_count": 24,
   "id": "ada33ad9-6492-400c-945e-69fbdf0451cc",
   "metadata": {},
   "outputs": [],
   "source": [
    "cap = cv2.VideoCapture(0)\n",
    "\n",
    "while True:\n",
    "    ret, frame = cap.read()\n",
    "    if ret == False:\n",
    "        break\n",
    "\n",
    "    image = frame.copy()\n",
    "    \n",
    "    #step-1: convert image to grayscale\n",
    "    gray = cv2.cvtColor(frame, cv2.COLOR_BGR2GRAY)\n",
    "    #step-2: apply grayscale image to cascade classifier\n",
    "    face_rect = haar.detectMultiScale(gray,1.3,5)\n",
    "    #step-3: draw bounding box\n",
    "    for x,y,w,h in face_rect:\n",
    "        cv2.rectangle(image,(x,y),(x+w, y+h),(0,255,0),2)\n",
    "        \n",
    "    cv2.imshow('detected faces',image )\n",
    "\n",
    "    if cv2.waitKey(1) == 27:\n",
    "        break\n",
    "         \n",
    "cap.release()\n",
    "cv2.destroyAllWindows()"
   ]
  },
  {
   "cell_type": "code",
   "execution_count": null,
   "id": "882a2a89-f053-4846-ae86-b127120ff554",
   "metadata": {},
   "outputs": [],
   "source": []
  }
 ],
 "metadata": {
  "kernelspec": {
   "display_name": "Python 3 (ipykernel)",
   "language": "python",
   "name": "python3"
  },
  "language_info": {
   "codemirror_mode": {
    "name": "ipython",
    "version": 3
   },
   "file_extension": ".py",
   "mimetype": "text/x-python",
   "name": "python",
   "nbconvert_exporter": "python",
   "pygments_lexer": "ipython3",
   "version": "3.11.1"
  }
 },
 "nbformat": 4,
 "nbformat_minor": 5
}
